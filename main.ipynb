{
 "metadata": {
  "language_info": {
   "codemirror_mode": {
    "name": "ipython",
    "version": 3
   },
   "file_extension": ".py",
   "mimetype": "text/x-python",
   "name": "python",
   "nbconvert_exporter": "python",
   "pygments_lexer": "ipython3",
   "version": "3.9.0"
  },
  "orig_nbformat": 2,
  "kernelspec": {
   "name": "python390jvsc74a57bd063fd5069d213b44bf678585dea6b12cceca9941eaf7f819626cde1f2670de90d",
   "display_name": "Python 3.9.0b4 64-bit"
  },
  "metadata": {
   "interpreter": {
    "hash": "63fd5069d213b44bf678585dea6b12cceca9941eaf7f819626cde1f2670de90d"
   }
  }
 },
 "nbformat": 4,
 "nbformat_minor": 2,
 "cells": [
  {
   "cell_type": "code",
   "execution_count": 1,
   "metadata": {},
   "outputs": [],
   "source": [
    "import requests\n",
    "baseUrl = \"cli-test1.sandbox.operations.dynamics.com\"\n",
    "url = \"https://login.windows.net/Ids-borjomi.com/oauth2/token\"\n",
    "\n",
    "payload=f'grant_type=client_credentials&client_id=05b9c07c-b4fc-4e36-8df3-70b9560a1ce1&client_secret=07sF67Q7WU4h~ce6ZXuPo0_0r5s-1hIlO_&resource=https%3A%2F%2F{baseUrl}'\n",
    "headers = {\n",
    "  'Content-Type': 'application/x-www-form-urlencoded',\n",
    "  'Host': 'login.windows.net',\n",
    "  'Cookie': 'fpc=ArbVVDqcJvRJq1kuOupppVR98SzvAQAAADIcMNgOAAAA; stsservicecookie=estsfd; x-ms-gateway-slice=estsfd'\n",
    "}"
   ]
  },
  {
   "cell_type": "code",
   "execution_count": 2,
   "metadata": {},
   "outputs": [
    {
     "output_type": "stream",
     "name": "stdout",
     "text": [
      "Token OK\n\n"
     ]
    }
   ],
   "source": [
    "response = requests.request(\"POST\", url, headers=headers, data=payload)\n",
    "token = response.json()['access_token']\n",
    "print(\"Token OK\\r\\n\")"
   ]
  },
  {
   "cell_type": "code",
   "execution_count": 3,
   "metadata": {},
   "outputs": [],
   "source": [
    "payload = \"\\r\\n\"\n",
    "headers = {\n",
    "    'OData-Version': '4.0',\n",
    "    'OData-MaxVersion': '4.0',\n",
    "    'Content-Type': 'application/json;odata.metadata=full',\n",
    "    'Accept': 'application/json;odata.metadata=minimal',\n",
    "    'Accept-Charset': 'UTF-8',\n",
    "    'Authorization': 'Bearer ' + token,\n",
    "    'Host': 'cli-test1.sandbox.operations.dynamics.com'\n",
    "}"
   ]
  },
  {
   "cell_type": "code",
   "execution_count": 4,
   "metadata": {},
   "outputs": [],
   "source": [
    "url = f\"https://{baseUrl}/data/RouteVersionsV2?$select=ItemNumber,ProductColorId,ValidFromDate,ValidToDate,RouteId&$count=true\""
   ]
  },
  {
   "cell_type": "code",
   "execution_count": 5,
   "metadata": {},
   "outputs": [],
   "source": [
    "response = requests.request(\"GET\", url, headers=headers, data=payload)"
   ]
  },
  {
   "cell_type": "code",
   "execution_count": 6,
   "metadata": {},
   "outputs": [
    {
     "output_type": "stream",
     "name": "stdout",
     "text": [
      "Total 11 records found \n\n|ItemNumber|ProductColorId|ValidFromDate|ValidToDate|RouteId|MachineName|Performance|ProductName|BomUnitId|\n"
     ]
    }
   ],
   "source": [
    "records = response.json()[\"@odata.count\"]\n",
    "print(f\"Total {records} records found \\r\\n\")\n",
    "print(\"|ItemNumber|ProductColorId|ValidFromDate|ValidToDate|RouteId|MachineName|Performance|ProductName|BomUnitId|\")"
   ]
  },
  {
   "cell_type": "code",
   "execution_count": 7,
   "metadata": {},
   "outputs": [],
   "source": [
    "jsonArrayValue = response.json()[\"value\"]"
   ]
  },
  {
   "cell_type": "code",
   "execution_count": 10,
   "metadata": {},
   "outputs": [
    {
     "output_type": "stream",
     "name": "stdout",
     "text": [
      "|000001166||1900-01-01T12:00:00Z|1900-01-01T12:00:00Z|000001177|DEF|10|||\n",
      "|000001166||1900-01-01T12:00:00Z|1900-01-01T12:00:00Z|000001413|DEF1|10|||\n",
      "|000002255||2021-01-01T12:00:00Z|1900-01-01T12:00:00Z|000002604|DEF|10|BJ0.50CP11x12UA-ShrinkStd|pcs|\n",
      "|000003975|AZ|1900-01-01T12:00:00Z|1900-01-01T12:00:00Z|000004753|CB|10|BORJOMI 0.50 Glass C01 12P|pcs|\n",
      "|000003975||1900-01-01T12:00:00Z|1900-01-01T12:00:00Z|000005024|101|10|||\n",
      "|000001166||1900-01-01T12:00:00Z|1900-01-01T12:00:00Z|000008014|DEF|10|||\n",
      "|000001168||1900-01-01T12:00:00Z|1900-01-01T12:00:00Z|000010099|CB|10|||\n",
      "|000011561||2021-03-01T12:00:00Z|1900-01-01T12:00:00Z|000011564|DEF|10|||\n",
      "|000011561||2021-03-01T12:00:00Z|1900-01-01T12:00:00Z|000011565|DEF|10|||\n",
      "|000007155||1900-01-01T12:00:00Z|1900-01-01T12:00:00Z|000012004|101|10|||\n",
      "|BJ0.33Gx12-STD|AZ|2021-04-01T12:00:00Z|1900-01-01T12:00:00Z|000005024|101|10|BJ0.33Gx12-STD-AZ|pcs|\n",
      "done\n"
     ]
    }
   ],
   "source": [
    "for element in jsonArrayValue:\n",
    "    itemNumber      = element[\"ItemNumber\"]\n",
    "    productColorId  = element[\"ProductColorId\"]\n",
    "    validFromDate   = element[\"ValidFromDate\"]\n",
    "    validToDate     = element[\"ValidToDate\"]\n",
    "    routeId         = element[\"RouteId\"]\n",
    "    # detail for item\n",
    "    # get name for selected language\n",
    "    url = f\"https://{baseUrl}/data/RouteOperationsV2?$top=1&$filter=RouteId eq '{routeId}'\"\n",
    "\n",
    "    response = requests.request(\"GET\", url, headers=headers, data=payload)\n",
    "    machineName = \"\"\n",
    "    performance = \"\"\n",
    "    routeValue = response.json()[\"value\"]\n",
    "    for routeItem in routeValue:\n",
    "        machineName = routeItem[\"OperationId\"] # new field here\n",
    "        performance = routeItem[\"OperationNumber\"] # new field here\n",
    "    \n",
    "    # attribute request\n",
    "    url = f\"https://{baseUrl}/data/ReleasedProductVariantsV2?$select=ProductName&$filter=ItemNumber eq '{itemNumber}' and ProductColorId eq '{productColorId}'&$expand=ReleasedProductMasterV2($select=BOMUnitSymbol)\"\n",
    "\n",
    "    response = requests.request(\"GET\", url, headers=headers, data=payload)\n",
    "\n",
    "    productName = \"\"\n",
    "    bomUnitId   = \"\"\n",
    "    addValue = response.json()[\"value\"]\n",
    "    for addItem in addValue:\n",
    "        productName     = addItem[\"ProductName\"]\n",
    "        releasedInfo    = addItem[\"ReleasedProductMasterV2\"]\n",
    "        bomUnitId       = releasedInfo[\"BOMUnitSymbol\"]\n",
    "    \n",
    "    \n",
    "    print(f\"|{itemNumber}|{productColorId}|{validFromDate}|{validToDate}|{routeId}|{machineName}|{performance}|{productName}|{bomUnitId}|\")\n",
    "print(\"done\")\n"
   ]
  },
  {
   "cell_type": "code",
   "execution_count": null,
   "metadata": {},
   "outputs": [],
   "source": []
  }
 ]
}